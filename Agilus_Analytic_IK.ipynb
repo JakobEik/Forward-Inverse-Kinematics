{
 "cells": [
  {
   "cell_type": "code",
   "execution_count": 1,
   "id": "d7ee989c",
   "metadata": {},
   "outputs": [],
   "source": [
    "import numpy as np\n",
    "import modern_robotics as mr\n",
    "from sympy import *\n"
   ]
  },
  {
   "cell_type": "code",
   "execution_count": 2,
   "id": "cc743413",
   "metadata": {},
   "outputs": [
    {
     "data": {
      "text/latex": [
       "$\\displaystyle c^{2} = a^{2} - 2 a b \\cos{\\left(C \\right)} + b^{2}$"
      ],
      "text/plain": [
       "Eq(c**2, a**2 - 2*a*b*cos(C) + b**2)"
      ]
     },
     "execution_count": 2,
     "metadata": {},
     "output_type": "execute_result"
    }
   ],
   "source": [
    "# D_eq = D_equation\n",
    "a, b, c, alpha, beta, gamma,theta, phi1, phi2, x, y, z, C, C2, C3, D, c2, c3, z2, z3, r2, r3 = symbols(\n",
    "    'a, b, c, alpha, beta, gamma, theta, phi1, phi2, x, y, z, C, C2, C3 D, c2, c3 z2, z3, r2, r3')\n",
    "G = Function('G')\n",
    "w, I, p = symbols('omega, I, p')\n",
    "M, r11,r12,r13,r21,r22,r23,r31,r32,r33,Px,Py,Pz,Wx,Wy,Wz = symbols(\n",
    "    'M, r11,r12,r13,r21,r22,r23,r31,r32,r33,Px,Py,Pz,Wx,Wy,Wz')\n",
    "\n",
    "omega1, omega2, omega3, omega4, omega5, omega6 = symbols('omega1:7')\n",
    "velocity1, velocity2, velocity3, velocity4, velocity5, velocity6 = symbols('v1:7')\n",
    "Screw1, Screw2, Screw3, Screw4, Screw5, Screw6 = symbols('S1:7')\n",
    "theta1, theta2, theta3, theta4, theta5, theta6 = symbols('theta1:7')\n",
    "H1, H3 = symbols('H1,H3') \n",
    "L1, L2, L3, L4 = symbols('L1:5') \n",
    " \n",
    "r = sqrt(x**2 + y**2)\n",
    "R2 = r-L1\n",
    "Z2 = z-H1\n",
    "C2 = sqrt(r2**2 + z2**2)\n",
    "C3 = sqrt(L3**2 + H3**2)\n",
    "Z3 = C3*sin(phi2)\n",
    "R3 = C3*cos(phi2)\n",
    "    \n",
    "lawCosine = Eq(c**2, a**2 + b**2 - 2*a*b*cos(C))\n",
    "\n",
    "lawCosine\n",
    "\n"
   ]
  },
  {
   "cell_type": "code",
   "execution_count": 3,
   "id": "a8eca27a",
   "metadata": {},
   "outputs": [
    {
     "data": {
      "text/latex": [
       "$\\displaystyle \\cos{\\left(C \\right)} = \\frac{a^{2} + b^{2} - c^{2}}{2 a b}$"
      ],
      "text/plain": [
       "Eq(cos(C), (a**2 + b**2 - c**2)/(2*a*b))"
      ]
     },
     "execution_count": 3,
     "metadata": {},
     "output_type": "execute_result"
    }
   ],
   "source": [
    "cosC = solve(lawCosine, cos(C))[0]\n",
    "\n",
    "cosC = Eq(cos(C), cosC)\n",
    "\n",
    "cosC"
   ]
  },
  {
   "cell_type": "code",
   "execution_count": 4,
   "id": "13f35807",
   "metadata": {},
   "outputs": [
    {
     "data": {
      "text/latex": [
       "$\\displaystyle \\theta_{3} = - \\phi_{1} + \\phi_{2}$"
      ],
      "text/plain": [
       "Eq(theta3, -phi1 + phi2)"
      ]
     },
     "execution_count": 4,
     "metadata": {},
     "output_type": "execute_result"
    }
   ],
   "source": [
    "theta3_eq_elbow_down = Eq(theta3, phi2-phi1)\n",
    "theta3_eq_elbow_down"
   ]
  },
  {
   "cell_type": "code",
   "execution_count": 5,
   "id": "f291444e",
   "metadata": {},
   "outputs": [
    {
     "data": {
      "text/latex": [
       "$\\displaystyle \\theta_{3} = - \\phi_{1} - \\phi_{2}$"
      ],
      "text/plain": [
       "Eq(theta3, -phi1 - phi2)"
      ]
     },
     "execution_count": 5,
     "metadata": {},
     "output_type": "execute_result"
    }
   ],
   "source": [
    "theta3_eq_elbow_up = Eq(theta3, -phi1-phi2)\n",
    "theta3_eq_elbow_up "
   ]
  },
  {
   "cell_type": "code",
   "execution_count": 6,
   "id": "acf1552b",
   "metadata": {},
   "outputs": [
    {
     "data": {
      "text/latex": [
       "$\\displaystyle \\phi_{1} = \\operatorname{atan}{\\left(\\frac{H_{3}}{L_{3}} \\right)}$"
      ],
      "text/plain": [
       "Eq(phi1, atan(H3/L3))"
      ]
     },
     "execution_count": 6,
     "metadata": {},
     "output_type": "execute_result"
    }
   ],
   "source": [
    "phi1_eq = Eq(phi1, atan(H3/L3))\n",
    "phi1_eq"
   ]
  },
  {
   "cell_type": "code",
   "execution_count": 7,
   "id": "fde0b504",
   "metadata": {},
   "outputs": [
    {
     "data": {
      "text/latex": [
       "$\\displaystyle \\phi_{2} = \\pi - \\beta$"
      ],
      "text/plain": [
       "Eq(phi2, pi - beta)"
      ]
     },
     "execution_count": 7,
     "metadata": {},
     "output_type": "execute_result"
    }
   ],
   "source": [
    "phi2_eq = Eq(phi2, pi-beta)\n",
    "phi2_eq"
   ]
  },
  {
   "cell_type": "code",
   "execution_count": 8,
   "id": "542c6067",
   "metadata": {},
   "outputs": [
    {
     "data": {
      "text/latex": [
       "$\\displaystyle \\theta_{3} = \\beta - \\operatorname{atan}{\\left(\\frac{H_{3}}{L_{3}} \\right)} - \\pi$"
      ],
      "text/plain": [
       "Eq(theta3, beta - atan(H3/L3) - pi)"
      ]
     },
     "execution_count": 8,
     "metadata": {},
     "output_type": "execute_result"
    }
   ],
   "source": [
    "theta3_eq_elbow_up = theta3_eq_elbow_up.subs({phi1:phi1_eq.rhs, phi2:phi2_eq.rhs})\n",
    "theta3_eq_elbow_up"
   ]
  },
  {
   "cell_type": "code",
   "execution_count": 9,
   "id": "0fa25bb8",
   "metadata": {},
   "outputs": [
    {
     "data": {
      "text/latex": [
       "$\\displaystyle \\theta_{3} = - \\beta - \\operatorname{atan}{\\left(\\frac{H_{3}}{L_{3}} \\right)} + \\pi$"
      ],
      "text/plain": [
       "Eq(theta3, -beta - atan(H3/L3) + pi)"
      ]
     },
     "execution_count": 9,
     "metadata": {},
     "output_type": "execute_result"
    }
   ],
   "source": [
    "theta3_eq_elbow_down = theta3_eq_elbow_down.subs({phi1:phi1_eq.rhs, phi2:phi2_eq.rhs})\n",
    "theta3_eq_elbow_down"
   ]
  },
  {
   "cell_type": "code",
   "execution_count": 10,
   "id": "25dd91cc",
   "metadata": {},
   "outputs": [
    {
     "data": {
      "text/latex": [
       "$\\displaystyle \\cos{\\left(\\beta \\right)} = \\frac{a^{2} + b^{2} - c^{2}}{2 a b}$"
      ],
      "text/plain": [
       "Eq(cos(beta), (a**2 + b**2 - c**2)/(2*a*b))"
      ]
     },
     "execution_count": 10,
     "metadata": {},
     "output_type": "execute_result"
    }
   ],
   "source": [
    "cosBeta = Eq(cos(beta), cosC.rhs)\n",
    "cosBeta"
   ]
  },
  {
   "cell_type": "code",
   "execution_count": 11,
   "id": "9933f2e0",
   "metadata": {},
   "outputs": [
    {
     "data": {
      "text/latex": [
       "$\\displaystyle \\cos{\\left(\\beta \\right)} = \\frac{L_{2}^{2} - c_{2}^{2} + c_{3}^{2}}{2 L_{2} c_{3}} = D$"
      ],
      "text/plain": [
       "Eq(Eq(cos(beta), (L2**2 - c2**2 + c3**2)/(2*L2*c3)), D)"
      ]
     },
     "execution_count": 11,
     "metadata": {},
     "output_type": "execute_result"
    }
   ],
   "source": [
    "cosBeta = cosBeta.subs({a: L2, b:c3, c: c2})\n",
    "\n",
    "D_eq = Eq(cosBeta, D)\n",
    "\n",
    "D_eq\n",
    "\n"
   ]
  },
  {
   "cell_type": "code",
   "execution_count": 12,
   "id": "8304a98a",
   "metadata": {
    "scrolled": true
   },
   "outputs": [
    {
     "data": {
      "text/latex": [
       "$\\displaystyle \\beta = \\operatorname{atan_{2}}{\\left(\\sqrt{1 - D^{2}},D \\right)}$"
      ],
      "text/plain": [
       "Eq(beta, atan2(sqrt(1 - D**2), D))"
      ]
     },
     "execution_count": 12,
     "metadata": {},
     "output_type": "execute_result"
    }
   ],
   "source": [
    "Beta = Eq(beta, atan2(sqrt(1-D**2),D))\n",
    "Beta"
   ]
  },
  {
   "cell_type": "code",
   "execution_count": 13,
   "id": "6bf9f520",
   "metadata": {},
   "outputs": [
    {
     "data": {
      "text/latex": [
       "$\\displaystyle \\beta = \\operatorname{atan_{2}}{\\left(\\sqrt{1 - \\frac{\\left(L_{2}^{2} - c_{2}^{2} + c_{3}^{2}\\right)^{2}}{4 L_{2}^{2} c_{3}^{2}}},\\frac{L_{2}^{2} - c_{2}^{2} + c_{3}^{2}}{2 L_{2} c_{3}} \\right)}$"
      ],
      "text/plain": [
       "Eq(beta, atan2(sqrt(1 - (L2**2 - c2**2 + c3**2)**2/(4*L2**2*c3**2)), (L2**2 - c2**2 + c3**2)/(2*L2*c3)))"
      ]
     },
     "execution_count": 13,
     "metadata": {},
     "output_type": "execute_result"
    }
   ],
   "source": [
    "Beta = Beta.subs(D, D_eq.lhs.rhs) # rhs = rightHandSide, lhs = leftHandSide\n",
    "Beta"
   ]
  },
  {
   "cell_type": "code",
   "execution_count": null,
   "id": "4eb16efb",
   "metadata": {},
   "outputs": [],
   "source": []
  },
  {
   "cell_type": "code",
   "execution_count": null,
   "id": "5e452fa3",
   "metadata": {},
   "outputs": [],
   "source": []
  },
  {
   "cell_type": "code",
   "execution_count": null,
   "id": "f6c7e64d",
   "metadata": {},
   "outputs": [],
   "source": []
  },
  {
   "cell_type": "code",
   "execution_count": 14,
   "id": "17cded22",
   "metadata": {},
   "outputs": [
    {
     "data": {
      "text/latex": [
       "$\\displaystyle \\theta_{2} = - \\alpha + \\gamma$"
      ],
      "text/plain": [
       "Eq(theta2, -alpha + gamma)"
      ]
     },
     "execution_count": 14,
     "metadata": {},
     "output_type": "execute_result"
    }
   ],
   "source": [
    "theta2_eq_elbow_down = Eq(theta2, gamma-alpha)\n",
    "theta2_eq_elbow_down\n"
   ]
  },
  {
   "cell_type": "code",
   "execution_count": 15,
   "id": "8a6e8c58",
   "metadata": {},
   "outputs": [
    {
     "data": {
      "text/latex": [
       "$\\displaystyle \\theta_{2} = \\alpha + \\gamma$"
      ],
      "text/plain": [
       "Eq(theta2, alpha + gamma)"
      ]
     },
     "execution_count": 15,
     "metadata": {},
     "output_type": "execute_result"
    }
   ],
   "source": [
    "theta2_eq_elbow_up  = Eq(theta2, gamma+alpha)\n",
    "theta2_eq_elbow_up \n"
   ]
  },
  {
   "cell_type": "code",
   "execution_count": 16,
   "id": "3a154cd3",
   "metadata": {},
   "outputs": [
    {
     "data": {
      "text/latex": [
       "$\\displaystyle \\gamma = \\operatorname{atan_{2}}{\\left(z_{2},r_{2} \\right)}$"
      ],
      "text/plain": [
       "Eq(gamma, atan2(z2, r2))"
      ]
     },
     "execution_count": 16,
     "metadata": {},
     "output_type": "execute_result"
    }
   ],
   "source": [
    "gamma_eq = Eq(gamma, atan2(z2,r2))\n",
    "gamma_eq\n"
   ]
  },
  {
   "cell_type": "code",
   "execution_count": 17,
   "id": "ae2b2470",
   "metadata": {},
   "outputs": [
    {
     "data": {
      "text/latex": [
       "$\\displaystyle \\alpha = \\operatorname{atan_{2}}{\\left(z_{3},L_{2} + r_{3} \\right)}$"
      ],
      "text/plain": [
       "Eq(alpha, atan2(z3, L2 + r3))"
      ]
     },
     "execution_count": 17,
     "metadata": {},
     "output_type": "execute_result"
    }
   ],
   "source": [
    "alpha_eq = Eq(alpha, atan2(z3, L2 + r3))\n",
    "alpha_eq"
   ]
  },
  {
   "cell_type": "code",
   "execution_count": 18,
   "id": "244d41ca",
   "metadata": {},
   "outputs": [
    {
     "data": {
      "text/latex": [
       "$\\displaystyle \\theta_{2} = \\operatorname{atan_{2}}{\\left(z_{2},r_{2} \\right)} - \\operatorname{atan_{2}}{\\left(z_{3},L_{2} + r_{3} \\right)}$"
      ],
      "text/plain": [
       "Eq(theta2, atan2(z2, r2) - atan2(z3, L2 + r3))"
      ]
     },
     "execution_count": 18,
     "metadata": {},
     "output_type": "execute_result"
    }
   ],
   "source": [
    "theta2_eq_elbow_down = Eq(theta2, gamma_eq.rhs-alpha_eq.rhs)\n",
    "theta2_eq_elbow_down"
   ]
  },
  {
   "cell_type": "code",
   "execution_count": 19,
   "id": "dcd36d8d",
   "metadata": {},
   "outputs": [
    {
     "data": {
      "text/latex": [
       "$\\displaystyle \\theta_{2} = \\operatorname{atan_{2}}{\\left(z_{2},r_{2} \\right)} + \\operatorname{atan_{2}}{\\left(z_{3},L_{2} + r_{3} \\right)}$"
      ],
      "text/plain": [
       "Eq(theta2, atan2(z2, r2) + atan2(z3, L2 + r3))"
      ]
     },
     "execution_count": 19,
     "metadata": {},
     "output_type": "execute_result"
    }
   ],
   "source": [
    "theta2_eq_elbow_up = Eq(theta2, gamma_eq.rhs+alpha_eq.rhs)\n",
    "theta2_eq_elbow_up"
   ]
  },
  {
   "cell_type": "code",
   "execution_count": null,
   "id": "38eba977",
   "metadata": {},
   "outputs": [],
   "source": []
  },
  {
   "cell_type": "code",
   "execution_count": null,
   "id": "0c6deae1",
   "metadata": {},
   "outputs": [],
   "source": [
    "\n"
   ]
  },
  {
   "cell_type": "code",
   "execution_count": 20,
   "id": "5a2d542b",
   "metadata": {},
   "outputs": [
    {
     "data": {
      "text/latex": [
       "$\\displaystyle \\theta_{1} = \\operatorname{atan_{2}}{\\left(y,x \\right)}$"
      ],
      "text/plain": [
       "Eq(theta1, atan2(y, x))"
      ]
     },
     "execution_count": 20,
     "metadata": {},
     "output_type": "execute_result"
    }
   ],
   "source": [
    "theta1_eq = Eq(theta1, atan2(y,x))\n",
    "theta1_eq\n"
   ]
  },
  {
   "cell_type": "code",
   "execution_count": null,
   "id": "c846f28d",
   "metadata": {},
   "outputs": [],
   "source": [
    "\n"
   ]
  },
  {
   "cell_type": "code",
   "execution_count": 21,
   "id": "4c461c26",
   "metadata": {},
   "outputs": [
    {
     "data": {
      "text/latex": [
       "$\\displaystyle \\left[\\begin{matrix}-1\\\\0\\\\0\\\\H_{1} + H_{3}\\\\0\\\\0\\end{matrix}\\right]$"
      ],
      "text/plain": [
       "Matrix([\n",
       "[     -1],\n",
       "[      0],\n",
       "[      0],\n",
       "[H1 + H3],\n",
       "[      0],\n",
       "[      0]])"
      ]
     },
     "execution_count": 21,
     "metadata": {},
     "output_type": "execute_result"
    }
   ],
   "source": [
    "w1 = Matrix([0,0,1])\n",
    "v1 = Matrix([0,0,0])\n",
    "S1 = Matrix([w1,v1])\n",
    "\n",
    "w2 = Matrix([0,-1,0])\n",
    "v2 = Matrix([-H1,0,-L1])\n",
    "S2 = Matrix([w2,v2])\n",
    "\n",
    "w3 = Matrix([0,-1,0])\n",
    "v3 = Matrix([-H3,0,-L2-L1])\n",
    "S3 = Matrix([w3,v3])\n",
    "\n",
    "w4 = Matrix([-1,0,0])\n",
    "v4 = Matrix([0,H1+H3,0])\n",
    "S4 = Matrix([w4,v4])\n",
    "\n",
    "w5 = Matrix([0,-1,0])\n",
    "v5 = Matrix([-H1-H3,0,-L1-L2-L3])\n",
    "S5 = Matrix([w5,v5])\n",
    "\n",
    "w6 = Matrix([-1,0,0])\n",
    "v6 = Matrix([H1+H3,0,0])\n",
    "S6 = Matrix([w6,v6])\n",
    "\n",
    "S6"
   ]
  },
  {
   "cell_type": "code",
   "execution_count": 22,
   "id": "cbb851b0",
   "metadata": {},
   "outputs": [
    {
     "data": {
      "text/latex": [
       "$\\displaystyle I \\theta + \\omega^{2} \\left(\\theta - \\sin{\\left(\\theta \\right)}\\right) + \\omega \\left(1 - \\cos{\\left(\\theta \\right)}\\right)$"
      ],
      "text/plain": [
       "I*theta + omega**2*(theta - sin(theta)) + omega*(1 - cos(theta))"
      ]
     },
     "execution_count": 22,
     "metadata": {},
     "output_type": "execute_result"
    }
   ],
   "source": [
    "def skew(w):\n",
    "    return Matrix([ [0,      -w[2],  w[1]],\n",
    "                    [w[2],     0  , -w[0]],\n",
    "                    [-w[1],  w[0] ,    0]]) \n",
    "\n",
    "\n",
    "G = theta*I + (1-cos(theta))*w + (theta-sin(theta))*w**2\n",
    "\n",
    "\n",
    "G\n",
    "\n"
   ]
  },
  {
   "cell_type": "code",
   "execution_count": 23,
   "id": "dd6eeffc",
   "metadata": {},
   "outputs": [],
   "source": [
    "def chooseRotMatrix(w, theta):\n",
    "    if(w[0] != 0):\n",
    "        return rot_axis1(-theta) # -theta since rot_axis1 = Rot(x, -theta)\n",
    "    \n",
    "    elif(w[1] != 0):      \n",
    "        return rot_axis2(-theta)\n",
    "    \n",
    "    elif(w[2] != 0):\n",
    "        return rot_axis3(-theta)\n",
    "\n"
   ]
  },
  {
   "cell_type": "code",
   "execution_count": null,
   "id": "4b8fa975",
   "metadata": {},
   "outputs": [],
   "source": []
  },
  {
   "cell_type": "code",
   "execution_count": 24,
   "id": "08c88734",
   "metadata": {},
   "outputs": [
    {
     "data": {
      "text/latex": [
       "$\\displaystyle \\left[\\begin{matrix}\\cos{\\left(\\theta_{1} \\right)} & - \\sin{\\left(\\theta_{1} \\right)} & 0 & 0\\\\\\sin{\\left(\\theta_{1} \\right)} & \\cos{\\left(\\theta_{1} \\right)} & 0 & 0\\\\0 & 0 & 1 & 0\\\\0 & 0 & 0 & 1\\end{matrix}\\right]$"
      ],
      "text/plain": [
       "Matrix([\n",
       "[cos(theta1), -sin(theta1), 0, 0],\n",
       "[sin(theta1),  cos(theta1), 0, 0],\n",
       "[          0,            0, 1, 0],\n",
       "[          0,            0, 0, 1]])"
      ]
     },
     "execution_count": 24,
     "metadata": {},
     "output_type": "execute_result"
    }
   ],
   "source": [
    "Rot1 = Matrix([chooseRotMatrix(w1, theta1)])\n",
    "\n",
    "p1 = G.subs({I:eye(3), theta:theta1, w:skew(w1)})@v1 \n",
    "\n",
    "eS1 = Matrix([[Rot1.col_insert(3, p1)], [0,0,0,1]])\n",
    "eS1\n"
   ]
  },
  {
   "cell_type": "code",
   "execution_count": null,
   "id": "9486c057",
   "metadata": {},
   "outputs": [],
   "source": []
  },
  {
   "cell_type": "code",
   "execution_count": null,
   "id": "d0ed3cc7",
   "metadata": {},
   "outputs": [],
   "source": []
  },
  {
   "cell_type": "code",
   "execution_count": 25,
   "id": "4411163e",
   "metadata": {},
   "outputs": [
    {
     "data": {
      "text/latex": [
       "$\\displaystyle \\left[\\begin{matrix}\\cos{\\left(\\theta_{2} \\right)} & 0 & \\sin{\\left(\\theta_{2} \\right)} & - H_{1} \\sin{\\left(\\theta_{2} \\right)} - L_{1} \\left(\\cos{\\left(\\theta_{2} \\right)} - 1\\right)\\\\0 & 1 & 0 & 0\\\\- \\sin{\\left(\\theta_{2} \\right)} & 0 & \\cos{\\left(\\theta_{2} \\right)} & - H_{1} \\left(1 - \\cos{\\left(\\theta_{2} \\right)}\\right) - L_{1} \\sin{\\left(\\theta_{2} \\right)}\\\\0 & 0 & 0 & 1\\end{matrix}\\right]$"
      ],
      "text/plain": [
       "Matrix([\n",
       "[ cos(theta2), 0, sin(theta2), -H1*sin(theta2) - L1*(cos(theta2) - 1)],\n",
       "[           0, 1,           0,                                      0],\n",
       "[-sin(theta2), 0, cos(theta2), -H1*(1 - cos(theta2)) - L1*sin(theta2)],\n",
       "[           0, 0,           0,                                      1]])"
      ]
     },
     "execution_count": 25,
     "metadata": {},
     "output_type": "execute_result"
    }
   ],
   "source": [
    "Rot2 = Matrix([chooseRotMatrix(w2, theta2)])\n",
    "\n",
    "p2 = G.subs({I: eye(3), theta:theta2, w:skew(w2)}) @ v2\n",
    "\n",
    "eS2 = Matrix([[Rot2.col_insert(3, p2)], [0,0,0,1]])\n",
    "eS2"
   ]
  },
  {
   "cell_type": "code",
   "execution_count": 26,
   "id": "97bf1ffd",
   "metadata": {},
   "outputs": [
    {
     "data": {
      "text/latex": [
       "$\\displaystyle \\left[\\begin{matrix}\\cos{\\left(\\theta_{3} \\right)} & 0 & \\sin{\\left(\\theta_{3} \\right)} & - H_{3} \\sin{\\left(\\theta_{3} \\right)} + \\left(- L_{1} - L_{2}\\right) \\left(\\cos{\\left(\\theta_{3} \\right)} - 1\\right)\\\\0 & 1 & 0 & 0\\\\- \\sin{\\left(\\theta_{3} \\right)} & 0 & \\cos{\\left(\\theta_{3} \\right)} & - H_{3} \\left(1 - \\cos{\\left(\\theta_{3} \\right)}\\right) + \\left(- L_{1} - L_{2}\\right) \\sin{\\left(\\theta_{3} \\right)}\\\\0 & 0 & 0 & 1\\end{matrix}\\right]$"
      ],
      "text/plain": [
       "Matrix([\n",
       "[ cos(theta3), 0, sin(theta3), -H3*sin(theta3) + (-L1 - L2)*(cos(theta3) - 1)],\n",
       "[           0, 1,           0,                                              0],\n",
       "[-sin(theta3), 0, cos(theta3), -H3*(1 - cos(theta3)) + (-L1 - L2)*sin(theta3)],\n",
       "[           0, 0,           0,                                              1]])"
      ]
     },
     "execution_count": 26,
     "metadata": {},
     "output_type": "execute_result"
    }
   ],
   "source": [
    "Rot3 = Matrix([chooseRotMatrix(w3, theta3)])\n",
    "\n",
    "p3 = G.subs({I: eye(3), theta:theta3, w:skew(w3)}) @ v3\n",
    "\n",
    "eS3 = Matrix([[Rot3.col_insert(3, p3)], [0,0,0,1]])\n",
    "eS3"
   ]
  },
  {
   "cell_type": "code",
   "execution_count": null,
   "id": "b29d1923",
   "metadata": {},
   "outputs": [],
   "source": []
  },
  {
   "cell_type": "code",
   "execution_count": 27,
   "id": "12e97b0e",
   "metadata": {},
   "outputs": [
    {
     "data": {
      "text/latex": [
       "$\\displaystyle \\left[\\begin{matrix}1 & 0 & 0 & 0\\\\0 & \\cos{\\left(\\theta_{4} \\right)} & - \\sin{\\left(\\theta_{4} \\right)} & \\left(H_{1} + H_{3}\\right) \\sin{\\left(\\theta_{4} \\right)}\\\\0 & \\sin{\\left(\\theta_{4} \\right)} & \\cos{\\left(\\theta_{4} \\right)} & \\left(H_{1} + H_{3}\\right) \\left(\\cos{\\left(\\theta_{4} \\right)} - 1\\right)\\\\0 & 0 & 0 & 1\\end{matrix}\\right]$"
      ],
      "text/plain": [
       "Matrix([\n",
       "[1,           0,            0,                           0],\n",
       "[0, cos(theta4), -sin(theta4),       (H1 + H3)*sin(theta4)],\n",
       "[0, sin(theta4),  cos(theta4), (H1 + H3)*(cos(theta4) - 1)],\n",
       "[0,           0,            0,                           1]])"
      ]
     },
     "execution_count": 27,
     "metadata": {},
     "output_type": "execute_result"
    }
   ],
   "source": [
    "Rot4 = Matrix([chooseRotMatrix(w4, theta4)])\n",
    "\n",
    "p4 = G.subs({I: eye(3), theta:theta4, w:skew(w4)}) @ v4\n",
    "\n",
    "eS4 = Matrix([[Rot4.col_insert(3, p4)], [0,0,0,1]])\n",
    "eS4"
   ]
  },
  {
   "cell_type": "code",
   "execution_count": 28,
   "id": "032de9a0",
   "metadata": {},
   "outputs": [
    {
     "data": {
      "text/latex": [
       "$\\displaystyle \\left[\\begin{matrix}\\cos{\\left(\\theta_{5} \\right)} & 0 & \\sin{\\left(\\theta_{5} \\right)} & \\left(- H_{1} - H_{3}\\right) \\sin{\\left(\\theta_{5} \\right)} + \\left(\\cos{\\left(\\theta_{5} \\right)} - 1\\right) \\left(- L_{1} - L_{2} - L_{3}\\right)\\\\0 & 1 & 0 & 0\\\\- \\sin{\\left(\\theta_{5} \\right)} & 0 & \\cos{\\left(\\theta_{5} \\right)} & \\left(1 - \\cos{\\left(\\theta_{5} \\right)}\\right) \\left(- H_{1} - H_{3}\\right) + \\left(- L_{1} - L_{2} - L_{3}\\right) \\sin{\\left(\\theta_{5} \\right)}\\\\0 & 0 & 0 & 1\\end{matrix}\\right]$"
      ],
      "text/plain": [
       "Matrix([\n",
       "[ cos(theta5), 0, sin(theta5), (-H1 - H3)*sin(theta5) + (cos(theta5) - 1)*(-L1 - L2 - L3)],\n",
       "[           0, 1,           0,                                                          0],\n",
       "[-sin(theta5), 0, cos(theta5), (1 - cos(theta5))*(-H1 - H3) + (-L1 - L2 - L3)*sin(theta5)],\n",
       "[           0, 0,           0,                                                          1]])"
      ]
     },
     "execution_count": 28,
     "metadata": {},
     "output_type": "execute_result"
    }
   ],
   "source": [
    "Rot5 = Matrix([chooseRotMatrix(w5, theta5)])\n",
    "\n",
    "p5 = G.subs({I: eye(3), theta:theta5, w:skew(w5)}) @ v5\n",
    "\n",
    "eS5 = Matrix([[Rot5.col_insert(3, p5)], [0,0,0,1]])\n",
    "eS5"
   ]
  },
  {
   "cell_type": "code",
   "execution_count": 29,
   "id": "5e2d775d",
   "metadata": {},
   "outputs": [
    {
     "data": {
      "text/latex": [
       "$\\displaystyle \\left[\\begin{matrix}1 & 0 & 0 & \\theta_{6} \\left(H_{1} + H_{3}\\right)\\\\0 & \\cos{\\left(\\theta_{6} \\right)} & - \\sin{\\left(\\theta_{6} \\right)} & 0\\\\0 & \\sin{\\left(\\theta_{6} \\right)} & \\cos{\\left(\\theta_{6} \\right)} & 0\\\\0 & 0 & 0 & 1\\end{matrix}\\right]$"
      ],
      "text/plain": [
       "Matrix([\n",
       "[1,           0,            0, theta6*(H1 + H3)],\n",
       "[0, cos(theta6), -sin(theta6),                0],\n",
       "[0, sin(theta6),  cos(theta6),                0],\n",
       "[0,           0,            0,                1]])"
      ]
     },
     "execution_count": 29,
     "metadata": {},
     "output_type": "execute_result"
    }
   ],
   "source": [
    "Rot6 = Matrix([chooseRotMatrix(w6, theta6)])\n",
    "\n",
    "p6 = G.subs({I: eye(3), theta:theta6, w:skew(w6)}) @ v6\n",
    "\n",
    "eS6 = Matrix([[Rot6.col_insert(3, p6)], [0,0,0,1]])\n",
    "eS6"
   ]
  },
  {
   "cell_type": "code",
   "execution_count": 30,
   "id": "446de5c6",
   "metadata": {},
   "outputs": [
    {
     "data": {
      "text/latex": [
       "$\\displaystyle \\left[\\begin{matrix}\\cos{\\left(\\theta_{5} \\right)} & \\sin{\\left(\\theta_{5} \\right)} \\sin{\\left(\\theta_{6} \\right)} & \\sin{\\left(\\theta_{5} \\right)} \\cos{\\left(\\theta_{6} \\right)} & \\theta_{6} \\left(H_{1} + H_{3}\\right) \\cos{\\left(\\theta_{5} \\right)} + \\left(- H_{1} - H_{3}\\right) \\sin{\\left(\\theta_{5} \\right)} + \\left(\\cos{\\left(\\theta_{5} \\right)} - 1\\right) \\left(- L_{1} - L_{2} - L_{3}\\right)\\\\\\sin{\\left(\\theta_{4} \\right)} \\sin{\\left(\\theta_{5} \\right)} & - \\sin{\\left(\\theta_{4} \\right)} \\sin{\\left(\\theta_{6} \\right)} \\cos{\\left(\\theta_{5} \\right)} + \\cos{\\left(\\theta_{4} \\right)} \\cos{\\left(\\theta_{6} \\right)} & - \\sin{\\left(\\theta_{4} \\right)} \\cos{\\left(\\theta_{5} \\right)} \\cos{\\left(\\theta_{6} \\right)} - \\sin{\\left(\\theta_{6} \\right)} \\cos{\\left(\\theta_{4} \\right)} & \\theta_{6} \\left(H_{1} + H_{3}\\right) \\sin{\\left(\\theta_{4} \\right)} \\sin{\\left(\\theta_{5} \\right)} + \\left(H_{1} + H_{3}\\right) \\sin{\\left(\\theta_{4} \\right)} - \\left(\\left(1 - \\cos{\\left(\\theta_{5} \\right)}\\right) \\left(- H_{1} - H_{3}\\right) + \\left(- L_{1} - L_{2} - L_{3}\\right) \\sin{\\left(\\theta_{5} \\right)}\\right) \\sin{\\left(\\theta_{4} \\right)}\\\\- \\sin{\\left(\\theta_{5} \\right)} \\cos{\\left(\\theta_{4} \\right)} & \\sin{\\left(\\theta_{4} \\right)} \\cos{\\left(\\theta_{6} \\right)} + \\sin{\\left(\\theta_{6} \\right)} \\cos{\\left(\\theta_{4} \\right)} \\cos{\\left(\\theta_{5} \\right)} & - \\sin{\\left(\\theta_{4} \\right)} \\sin{\\left(\\theta_{6} \\right)} + \\cos{\\left(\\theta_{4} \\right)} \\cos{\\left(\\theta_{5} \\right)} \\cos{\\left(\\theta_{6} \\right)} & - \\theta_{6} \\left(H_{1} + H_{3}\\right) \\sin{\\left(\\theta_{5} \\right)} \\cos{\\left(\\theta_{4} \\right)} + \\left(H_{1} + H_{3}\\right) \\left(\\cos{\\left(\\theta_{4} \\right)} - 1\\right) + \\left(\\left(1 - \\cos{\\left(\\theta_{5} \\right)}\\right) \\left(- H_{1} - H_{3}\\right) + \\left(- L_{1} - L_{2} - L_{3}\\right) \\sin{\\left(\\theta_{5} \\right)}\\right) \\cos{\\left(\\theta_{4} \\right)}\\\\0 & 0 & 0 & 1\\end{matrix}\\right]$"
      ],
      "text/plain": [
       "Matrix([\n",
       "[             cos(theta5),                                        sin(theta5)*sin(theta6),                                        sin(theta5)*cos(theta6),                                                          theta6*(H1 + H3)*cos(theta5) + (-H1 - H3)*sin(theta5) + (cos(theta5) - 1)*(-L1 - L2 - L3)],\n",
       "[ sin(theta4)*sin(theta5), -sin(theta4)*sin(theta6)*cos(theta5) + cos(theta4)*cos(theta6), -sin(theta4)*cos(theta5)*cos(theta6) - sin(theta6)*cos(theta4),        theta6*(H1 + H3)*sin(theta4)*sin(theta5) + (H1 + H3)*sin(theta4) - ((1 - cos(theta5))*(-H1 - H3) + (-L1 - L2 - L3)*sin(theta5))*sin(theta4)],\n",
       "[-sin(theta5)*cos(theta4),  sin(theta4)*cos(theta6) + sin(theta6)*cos(theta4)*cos(theta5), -sin(theta4)*sin(theta6) + cos(theta4)*cos(theta5)*cos(theta6), -theta6*(H1 + H3)*sin(theta5)*cos(theta4) + (H1 + H3)*(cos(theta4) - 1) + ((1 - cos(theta5))*(-H1 - H3) + (-L1 - L2 - L3)*sin(theta5))*cos(theta4)],\n",
       "[                       0,                                                              0,                                                              0,                                                                                                                                                  1]])"
      ]
     },
     "execution_count": 30,
     "metadata": {},
     "output_type": "execute_result"
    }
   ],
   "source": [
    "eS4@eS5@eS6"
   ]
  },
  {
   "cell_type": "code",
   "execution_count": null,
   "id": "aff9edd2",
   "metadata": {},
   "outputs": [],
   "source": []
  },
  {
   "cell_type": "code",
   "execution_count": 31,
   "id": "bea1f056",
   "metadata": {},
   "outputs": [
    {
     "data": {
      "text/latex": [
       "$\\displaystyle \\left[\\begin{matrix}0 & 0 & -1 & L_{1} + L_{2} + L_{3} + L_{4}\\\\0 & -1 & 0 & 0\\\\-1 & 0 & 0 & H_{1} + H_{3}\\\\0 & 0 & 0 & 1\\end{matrix}\\right]$"
      ],
      "text/plain": [
       "Matrix([\n",
       "[ 0,  0, -1, L1 + L2 + L3 + L4],\n",
       "[ 0, -1,  0,                 0],\n",
       "[-1,  0,  0,           H1 + H3],\n",
       "[ 0,  0,  0,                 1]])"
      ]
     },
     "execution_count": 31,
     "metadata": {},
     "output_type": "execute_result"
    }
   ],
   "source": [
    "\n",
    "M = Matrix([[0,0,-1,L1+L2+L3+L4], [0,-1,0,0], [-1,0,0, H1+H3], [0,0,0,1]])\n",
    "M"
   ]
  },
  {
   "cell_type": "code",
   "execution_count": 32,
   "id": "2199f406",
   "metadata": {},
   "outputs": [
    {
     "data": {
      "text/latex": [
       "$\\displaystyle \\left[\\begin{matrix}0 & 0 & -1 & H_{1} + H_{3}\\\\0 & -1 & 0 & 0\\\\-1 & 0 & 0 & L_{1} + L_{2} + L_{3} + L_{4}\\\\0 & 0 & 0 & 1\\end{matrix}\\right]$"
      ],
      "text/plain": [
       "Matrix([\n",
       "[ 0,  0, -1,           H1 + H3],\n",
       "[ 0, -1,  0,                 0],\n",
       "[-1,  0,  0, L1 + L2 + L3 + L4],\n",
       "[ 0,  0,  0,                 1]])"
      ]
     },
     "execution_count": 32,
     "metadata": {},
     "output_type": "execute_result"
    }
   ],
   "source": [
    "M_inv = M.inv()\n",
    "M_inv"
   ]
  },
  {
   "cell_type": "code",
   "execution_count": 33,
   "id": "6c12b38e",
   "metadata": {},
   "outputs": [
    {
     "data": {
      "text/latex": [
       "$\\displaystyle \\left[\\begin{matrix}- \\sin{\\left(\\theta_{2} \\right)} \\sin{\\left(\\theta_{3} \\right)} \\cos{\\left(\\theta_{1} \\right)} + \\cos{\\left(\\theta_{1} \\right)} \\cos{\\left(\\theta_{2} \\right)} \\cos{\\left(\\theta_{3} \\right)} & - \\sin{\\left(\\theta_{1} \\right)} & \\sin{\\left(\\theta_{2} \\right)} \\cos{\\left(\\theta_{1} \\right)} \\cos{\\left(\\theta_{3} \\right)} + \\sin{\\left(\\theta_{3} \\right)} \\cos{\\left(\\theta_{1} \\right)} \\cos{\\left(\\theta_{2} \\right)}\\\\- \\sin{\\left(\\theta_{1} \\right)} \\sin{\\left(\\theta_{2} \\right)} \\sin{\\left(\\theta_{3} \\right)} + \\sin{\\left(\\theta_{1} \\right)} \\cos{\\left(\\theta_{2} \\right)} \\cos{\\left(\\theta_{3} \\right)} & \\cos{\\left(\\theta_{1} \\right)} & \\sin{\\left(\\theta_{1} \\right)} \\sin{\\left(\\theta_{2} \\right)} \\cos{\\left(\\theta_{3} \\right)} + \\sin{\\left(\\theta_{1} \\right)} \\sin{\\left(\\theta_{3} \\right)} \\cos{\\left(\\theta_{2} \\right)}\\\\- \\sin{\\left(\\theta_{2} \\right)} \\cos{\\left(\\theta_{3} \\right)} - \\sin{\\left(\\theta_{3} \\right)} \\cos{\\left(\\theta_{2} \\right)} & 0 & - \\sin{\\left(\\theta_{2} \\right)} \\sin{\\left(\\theta_{3} \\right)} + \\cos{\\left(\\theta_{2} \\right)} \\cos{\\left(\\theta_{3} \\right)}\\end{matrix}\\right]$"
      ],
      "text/plain": [
       "Matrix([\n",
       "[-sin(theta2)*sin(theta3)*cos(theta1) + cos(theta1)*cos(theta2)*cos(theta3), -sin(theta1), sin(theta2)*cos(theta1)*cos(theta3) + sin(theta3)*cos(theta1)*cos(theta2)],\n",
       "[-sin(theta1)*sin(theta2)*sin(theta3) + sin(theta1)*cos(theta2)*cos(theta3),  cos(theta1), sin(theta1)*sin(theta2)*cos(theta3) + sin(theta1)*sin(theta3)*cos(theta2)],\n",
       "[                        -sin(theta2)*cos(theta3) - sin(theta3)*cos(theta2),            0,                        -sin(theta2)*sin(theta3) + cos(theta2)*cos(theta3)]])"
      ]
     },
     "execution_count": 33,
     "metadata": {},
     "output_type": "execute_result"
    }
   ],
   "source": [
    "arm_fk = Rot1@Rot2@Rot3\n",
    "arm_fk"
   ]
  },
  {
   "cell_type": "code",
   "execution_count": 34,
   "id": "692838bb",
   "metadata": {},
   "outputs": [],
   "source": [
    "l1 = 25.0\n",
    "l2 = 455.0\n",
    "l3 = 420.0\n",
    "l4 = 80.0\n",
    "h1 = 400.0\n",
    "h3 = 35.0\n",
    "\n",
    "target_frame = np.array([\n",
    "    [0,  0, 1, 300],\n",
    "    [0, -1, 0, 400],\n",
    "    [1,  0, 0,  0 ],\n",
    "    [0,  0, 0,  1 ],\n",
    "])\n",
    "\n",
    "# Extract the desired point P and pose R\n",
    "R = target_frame[0:3, 0:3]\n",
    "P = target_frame[0:3, 3]\n",
    "\n",
    "# W = wrist center\n",
    "Wx = P[0] + l4*R[0, 2] # Wrist center is translated l4 along the z-axis from the desired pose\n",
    "Wy = P[1] + l4*R[1, 2] # \n",
    "Wz = -P[2] - l4*R[2, 2]\n",
    "\n",
    "r = np.hypot(Wx, Wy)\n",
    "R2 = r-l1\n",
    "Z2 = Wz-h1\n",
    "C2 = np.hypot(R2, Z2)\n",
    "C3 = np.hypot(l3, h3)\n",
    "betaVal = Beta.subs({c2:C2, c3:C3}).subs({r2:R2, z2:Z2}).subs({ L1:l1, L2:l2, L3:l3, H1:h1, H3:h3, x:Wx, y:Wy, z:Wz}).rhs\n",
    "Z3 = C3*sin(phi2).subs(phi2, pi-betaVal)\n",
    "R3 = C3*cos(phi2).subs(phi2, pi-betaVal)\n",
    "\n",
    "theta1_eq = theta1_eq.subs({x:Wx, y:Wy})\n",
    "\n",
    "# Elbow down\n",
    "theta3_eq_elbow_down = theta3_eq_elbow_down.subs({beta:betaVal, H3:h3, L3:l3})\n",
    "theta2_eq_elbow_down = theta2_eq_elbow_down.subs({z2:Z2, r2:R2, z3:Z3, L2:l2, r3:R3})\n",
    "\n",
    "# Elbow up\n",
    "theta3_eq_elbow_up = theta3_eq_elbow_up.subs({beta:betaVal, H3:h3, L3:l3})\n",
    "theta2_eq_elbow_up = theta2_eq_elbow_up.subs({z2:Z2, r2:R2, z3:Z3, L2:l2, r3:R3})\n",
    "\n"
   ]
  },
  {
   "cell_type": "code",
   "execution_count": null,
   "id": "fbc1f9e0",
   "metadata": {},
   "outputs": [],
   "source": []
  },
  {
   "cell_type": "code",
   "execution_count": null,
   "id": "5813e05a",
   "metadata": {},
   "outputs": [],
   "source": []
  },
  {
   "cell_type": "code",
   "execution_count": 35,
   "id": "8ced7b9b",
   "metadata": {},
   "outputs": [],
   "source": [
    "\n",
    "# Elbow Down\n",
    "arm_fk_d = arm_fk.subs({theta1:theta1_eq.rhs, theta2:theta2_eq_elbow_down.rhs, theta3:theta3_eq_elbow_down.rhs})\n",
    "wrist_rotation_d = arm_fk_d.transpose()@R@mr.TransToRp(M_inv)[0]\n",
    "\n",
    "# Elbow up\n",
    "arm_fk_u = arm_fk.subs({theta1:theta1_eq.rhs, theta2:theta2_eq_elbow_up.rhs, theta3:theta3_eq_elbow_up.rhs})\n",
    "wrist_rotation_u = arm_fk_u.transpose()@R@mr.TransToRp(M_inv)[0]\n"
   ]
  },
  {
   "cell_type": "code",
   "execution_count": null,
   "id": "7e80f0f3",
   "metadata": {},
   "outputs": [],
   "source": []
  },
  {
   "cell_type": "code",
   "execution_count": 36,
   "id": "467b2de2",
   "metadata": {},
   "outputs": [
    {
     "data": {
      "text/latex": [
       "$\\displaystyle 0.81299100528538 - \\pi$"
      ],
      "text/plain": [
       "0.81299100528538 - pi"
      ]
     },
     "execution_count": 36,
     "metadata": {},
     "output_type": "execute_result"
    }
   ],
   "source": [
    "# ref: https://www.geometrictools.com/Documentation/EulerAngles.pdf\n",
    "\n",
    "def negXYXEulerAngle(R):\n",
    "    r11 = R[0]\n",
    "    r12 = R[1]\n",
    "    r13 = R[2]\n",
    "    r21 = R[3]\n",
    "    r22 = R[4]\n",
    "    r23 = R[5]\n",
    "    r31 = R[6]\n",
    "    \n",
    "    if (r11 < 1):\n",
    "        if (r11 > -1):\n",
    "            thetaX0 = -atan2(r21, -r31) \n",
    "            thetaY = -acos(r11) \n",
    "            thetaX1 = -atan2(r12,r13)\n",
    "\n",
    "        else: # r11 = −1 \n",
    "            # Not a unique solution: thetaX1 − thetaX0 = atan2(−r12,r11) \n",
    "            thetaX0 = atan2(-r23,r22);\n",
    "            thetaY = -pi\n",
    "            thetaX1 = 0\n",
    "    \n",
    "    else: #r00 = 1 \n",
    "        #Not a unique solution: thetaX1 + thetaX0 = atan2(−r12,r11) \n",
    "        thetaX0 = -atan2(-r23,r22)\n",
    "        thetaY = 0\n",
    "        thetaX1 = 0\n",
    "        \n",
    "    return thetaX0, thetaY, thetaX1\n",
    "\n",
    "\n",
    "theta4_d, theta5_d, theta6_d = negXYXEulerAngle(wrist_rotation_d)\n",
    "\n",
    "\n",
    "\n",
    "\n",
    "theta4_u, theta5_u, theta6_u = negXYXEulerAngle(wrist_rotation_u)\n",
    "theta4_u\n"
   ]
  },
  {
   "cell_type": "code",
   "execution_count": 37,
   "id": "ed8bf917",
   "metadata": {},
   "outputs": [
    {
     "data": {
      "text/plain": [
       "(0.811033571919126,\n",
       " -0.0335524767710738,\n",
       " 1.51585811321135,\n",
       " 0.81299100528538 - pi,\n",
       " -1.63170237881319,\n",
       " 0.0642351915519719 - pi)"
      ]
     },
     "execution_count": 37,
     "metadata": {},
     "output_type": "execute_result"
    }
   ],
   "source": [
    "# Elbown up\n",
    "\n",
    "\n",
    "theta1_eq.rhs, -theta2_eq_elbow_up.rhs, -theta3_eq_elbow_up.rhs, theta4_u, theta5_u, theta6_u\n"
   ]
  },
  {
   "cell_type": "code",
   "execution_count": 38,
   "id": "5b36783b",
   "metadata": {},
   "outputs": [
    {
     "data": {
      "text/plain": [
       "(0.811033571919126,\n",
       " 1.33254542035014,\n",
       " -1.34957564943447,\n",
       " -1.55461980237390,\n",
       " -2.33042133037938,\n",
       " -1.54730838636059)"
      ]
     },
     "execution_count": 38,
     "metadata": {},
     "output_type": "execute_result"
    }
   ],
   "source": [
    "# Elbown down\n",
    "\n",
    "theta1_eq.rhs, -theta2_eq_elbow_down.rhs, -theta3_eq_elbow_down.rhs, theta4_d, theta5_d, theta6_d"
   ]
  },
  {
   "cell_type": "code",
   "execution_count": null,
   "id": "cf0bcba2",
   "metadata": {},
   "outputs": [],
   "source": []
  }
 ],
 "metadata": {
  "kernelspec": {
   "display_name": "Python 3 (ipykernel)",
   "language": "python",
   "name": "python3"
  },
  "language_info": {
   "codemirror_mode": {
    "name": "ipython",
    "version": 3
   },
   "file_extension": ".py",
   "mimetype": "text/x-python",
   "name": "python",
   "nbconvert_exporter": "python",
   "pygments_lexer": "ipython3",
   "version": "3.8.12"
  }
 },
 "nbformat": 4,
 "nbformat_minor": 5
}
